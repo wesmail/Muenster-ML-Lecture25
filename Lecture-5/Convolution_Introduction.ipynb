{
 "cells": [
  {
   "cell_type": "markdown",
   "id": "83e6ce37",
   "metadata": {},
   "source": [
    "## Implementing 1D Convolution (Cross-Correlation) in PyTorch — With Stride\n",
    "\n",
    "This notebook demonstrates how to implement **1D convolution** (actually **cross-correlation**) in PyTorch from scratch using two methods:\n",
    "\n",
    "1. **Loop-based implementation** (educational, intuitive)\n",
    "2. **Vectorized implementation** (fast, efficient)\n",
    "\n",
    "\n",
    "### Problem Setup\n",
    "\n",
    "We are given:\n",
    "\n",
    "- Input signal `x` of length `N`\n",
    "- Kernel/filter `w` of length `K`\n",
    "- Stride `s` (default = 1)\n",
    "\n",
    "\n",
    "The **cross-correlation** (used in PyTorch) is defined as:\n",
    "\n",
    "$$\n",
    "y[i] = \\sum_{j=0}^{K-1} x[i + j] \\cdot w[j]\n",
    "$$\n",
    "\n",
    "\n",
    "The output length is computed as:\n",
    "\n",
    "$$\n",
    "\\text{output\\_length} = \\left\\lfloor \\frac{N - K}{s} \\right\\rfloor + 1\n",
    "$$\n",
    "\n",
    "### Example Inputs\n",
    "\n",
    "```python\n",
    "import torch\n",
    "\n",
    "x = torch.tensor([1.0, 2.0, 3.0, 4.0, 5.0])  # Input signal (length 5)\n",
    "w = torch.tensor([0.2, 0.5, 0.3])           # Kernel (length 3)\n",
    "stride = 2"
   ]
  },
  {
   "cell_type": "markdown",
   "id": "ec34ba49",
   "metadata": {},
   "source": [
    "## Method 1: Loop-Based Simple Implementation"
   ]
  },
  {
   "cell_type": "code",
   "execution_count": 2,
   "id": "7cab9638",
   "metadata": {},
   "outputs": [
    {
     "name": "stdout",
     "output_type": "stream",
     "text": [
      "tensor([2.1000, 4.1000])\n"
     ]
    }
   ],
   "source": [
    "import torch\n",
    "\n",
    "def conv1d_loop_stride(x, w, stride=1):\n",
    "    \"\"\"\n",
    "    Performs 1D cross-correlation using explicit loops and stride.\n",
    "\n",
    "    Args:\n",
    "        x (torch.Tensor): Input signal (1D tensor)\n",
    "        w (torch.Tensor): Kernel/filter (1D tensor)\n",
    "        stride (int): Stride value\n",
    "\n",
    "    Returns:\n",
    "        torch.Tensor: Output after cross-correlation\n",
    "    \"\"\"\n",
    "    K = len(w)\n",
    "    N = len(x)\n",
    "    output_len = ((N - K) // stride) + 1  # Compute output length\n",
    "    y = torch.zeros(output_len)\n",
    "\n",
    "    for i in range(output_len):\n",
    "        start = i * stride  # Start index for current window\n",
    "        for j in range(K):\n",
    "            y[i] += x[start + j] * w[j]  # Elementwise product and sum\n",
    "    return y\n",
    "\n",
    "# Example usage\n",
    "x = torch.tensor([1.0, 2.0, 3.0, 4.0, 5.0])\n",
    "w = torch.tensor([0.2, 0.5, 0.3])\n",
    "print(conv1d_loop_stride(x, w, stride=2))  # tensor([2.1, 4.1])"
   ]
  },
  {
   "cell_type": "markdown",
   "id": "4574dd67",
   "metadata": {},
   "source": [
    "## Method 2: Vectorized Implementation"
   ]
  },
  {
   "cell_type": "code",
   "execution_count": 3,
   "id": "6e133586",
   "metadata": {},
   "outputs": [
    {
     "name": "stdout",
     "output_type": "stream",
     "text": [
      "tensor([2.1000, 4.1000])\n"
     ]
    }
   ],
   "source": [
    "def conv1d_vectorized_stride(x, w, stride=1):\n",
    "    \"\"\"\n",
    "    Performs 1D cross-correlation using vectorized PyTorch operations with stride.\n",
    "\n",
    "    Args:\n",
    "        x (torch.Tensor): Input signal (1D tensor)\n",
    "        w (torch.Tensor): Kernel/filter (1D tensor)\n",
    "        stride (int): Stride value\n",
    "\n",
    "    Returns:\n",
    "        torch.Tensor: Output after cross-correlation\n",
    "    \"\"\"\n",
    "    K = len(w)\n",
    "    # Use unfold to extract sliding windows with given stride\n",
    "    x_unfolded = x.unfold(0, K, stride)  # Shape: (output_len, K)\n",
    "    y = (x_unfolded * w).sum(dim=1)      # Elementwise multiply and sum over K\n",
    "    return y\n",
    "\n",
    "# Example usage\n",
    "print(conv1d_vectorized_stride(x, w, stride=2))  # tensor([2.1, 4.1])"
   ]
  },
  {
   "cell_type": "markdown",
   "id": "850dc108",
   "metadata": {},
   "source": [
    "## Method 3: PyTorch Built-in `Conv1d`"
   ]
  },
  {
   "cell_type": "code",
   "execution_count": 14,
   "id": "15e7dc64",
   "metadata": {},
   "outputs": [
    {
     "name": "stdout",
     "output_type": "stream",
     "text": [
      "tensor([0.3461, 0.0479], grad_fn=<SqueezeBackward0>)\n"
     ]
    }
   ],
   "source": [
    "import torch.nn as nn\n",
    "\n",
    "# PyTorch expects input shape: (batch_size, in_channels, length)\n",
    "x = torch.tensor([1.0, 2.0, 3.0, 4.0, 5.0])\n",
    "x_torch = x.reshape(1, 1, x.size(0)) # Create a fake batch dimension Shape: (1, 1, 5)\n",
    "\n",
    "# Create Conv1d layer manually with weights and stride\n",
    "conv = nn.Conv1d(in_channels=1, out_channels=1, kernel_size=3, stride=2, bias=False)\n",
    "\n",
    "# Forward pass\n",
    "y = conv(x_torch)             # Shape: (1, 1, output_len)\n",
    "print(y.squeeze())"
   ]
  },
  {
   "cell_type": "markdown",
   "id": "4c9d2487",
   "metadata": {},
   "source": [
    "## 2D Convolution: PyTorch Built-in `Conv2d`"
   ]
  },
  {
   "cell_type": "code",
   "execution_count": 11,
   "id": "9adf081d",
   "metadata": {},
   "outputs": [
    {
     "name": "stdout",
     "output_type": "stream",
     "text": [
      "torch.Size([5, 8, 14, 14])\n"
     ]
    }
   ],
   "source": [
    "import torch.nn as nn\n",
    "\n",
    "# PyTorch expects input shape: (batch_size, in_channels, height, width)\n",
    "x_torch = torch.rand(5, 3, 16, 16) # shape: (batch_size=5, in_channels=3, height=16, width=16)\n",
    "\n",
    "# Create Conv2d layer\n",
    "conv = nn.Conv2d(in_channels=3, out_channels=8, kernel_size=3, stride=1)\n",
    "\n",
    "# Forward pass\n",
    "y = conv(x_torch)\n",
    "print(y.shape) # Shape: (5, 8, 14, 14)"
   ]
  }
 ],
 "metadata": {
  "kernelspec": {
   "display_name": "pytorch",
   "language": "python",
   "name": "python3"
  },
  "language_info": {
   "codemirror_mode": {
    "name": "ipython",
    "version": 3
   },
   "file_extension": ".py",
   "mimetype": "text/x-python",
   "name": "python",
   "nbconvert_exporter": "python",
   "pygments_lexer": "ipython3",
   "version": "3.13.2"
  }
 },
 "nbformat": 4,
 "nbformat_minor": 5
}

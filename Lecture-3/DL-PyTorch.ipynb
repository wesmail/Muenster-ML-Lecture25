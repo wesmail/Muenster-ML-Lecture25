{
 "cells": [
  {
   "cell_type": "markdown",
   "id": "922b6d00",
   "metadata": {},
   "source": [
    "## Revisiting Linear Regression — Now with PyTorch\n",
    "\n",
    "In this section, we will **repeat the same simple linear regression problem** we tackled earlier — but now, we’ll implement it using **PyTorch**.\n",
    "\n",
    "Instead of NumPy, we’ll use PyTorch’s built-in functionality to define tensors, compute gradients, and update parameters. This helps us build a better foundation for scaling to neural networks later.\n",
    "\n",
    "## What is PyTorch?\n",
    "\n",
    "[**PyTorch**](https://pytorch.org/) is an **open-source machine learning library** developed by **Facebook's AI Research lab (FAIR)** and released in **January 2017**. It has quickly become one of the most popular deep learning frameworks, especially favored in **research and academia** due to its flexibility and ease of use.\n",
    "\n",
    "\n",
    "## Dynamic Computation Graphs\n",
    "\n",
    "One of PyTorch’s most powerful features is its **dynamic computation graph**.\n",
    "\n",
    "Unlike older frameworks that build static graphs (e.g., TensorFlow v1), PyTorch builds the graph **as you go** — line by line during the forward pass.\n",
    "\n",
    "This means:\n",
    "- Easy debugging with native Python control flow\n",
    "- Flexibility to write custom models quickly\n",
    "- Great for research and prototyping\n",
    "\n",
    "---\n",
    "\n",
    "## What is a Tensor?\n",
    "\n",
    "A **tensor** is the core data structure in PyTorch — it’s essentially a **generalized NumPy array** that also supports **automatic differentiation** and can be run on **GPUs**.\n",
    "\n",
    "| Type   | Dimensions | Example                          |\n",
    "|--------|------------|----------------------------------|\n",
    "| Scalar | 0D         | `torch.tensor(3.14)`             |\n",
    "| Vector | 1D         | `torch.tensor([1, 2, 3])`        |\n",
    "| Matrix | 2D         | `torch.ones((2, 3))`             |\n",
    "| Tensor | 3D+        | `torch.randn((2, 3, 4))`         |\n",
    "\n",
    "You can seamlessly convert between NumPy and PyTorch:\n",
    "```python\n",
    "tensor.numpy()         # Convert PyTorch → NumPy\n",
    "torch.from_numpy(arr)  # Convert NumPy → PyTorch\n"
   ]
  },
  {
   "cell_type": "markdown",
   "id": "194676b3",
   "metadata": {},
   "source": [
    "## Checking CUDA Devices in PyTorch\n",
    "\n",
    "PyTorch makes it easy to check for available **CUDA-compatible GPUs** (i.e., NVIDIA GPUs) using its `torch.cuda` module. This is helpful when you want to **run models on GPU** instead of CPU for faster computation.\n",
    "\n",
    "Here's what the code does:\n",
    "\n",
    "```python\n",
    "n_cudas = torch.cuda.device_count()\n",
    "for i in range(n_cudas):\n",
    "    print(torch.cuda.get_device_name(i))\n"
   ]
  },
  {
   "cell_type": "code",
   "execution_count": 1,
   "id": "28be829a",
   "metadata": {},
   "outputs": [
    {
     "name": "stdout",
     "output_type": "stream",
     "text": [
      "NVIDIA GeForce RTX 4090 Laptop GPU\n"
     ]
    }
   ],
   "source": [
    "import torch\n",
    "n_cudas = torch.cuda.device_count()\n",
    "for i in range(n_cudas):\n",
    "    print(torch.cuda.get_device_name(i))"
   ]
  },
  {
   "cell_type": "code",
   "execution_count": 3,
   "id": "64a5ea9c",
   "metadata": {},
   "outputs": [],
   "source": [
    "import numpy as np\n",
    "import matplotlib.pyplot as plt\n",
    "from sklearn.datasets import make_regression\n",
    "from sklearn.model_selection import train_test_split"
   ]
  },
  {
   "cell_type": "code",
   "execution_count": null,
   "id": "93cd87cd",
   "metadata": {},
   "outputs": [],
   "source": [
    "help(make_regression)"
   ]
  },
  {
   "cell_type": "code",
   "execution_count": 4,
   "id": "5c78dbb3",
   "metadata": {},
   "outputs": [],
   "source": [
    "# Now we are using scikit-learn to generate the synthetic data\n",
    "n_samples = 100\n",
    "X, y = make_regression(n_samples=100, n_features=1, noise=5, random_state=42)\n",
    "\n",
    "# Split into training and testing\n",
    "X_train, X_test, y_train, y_test = train_test_split(X, y, test_size=0.2, random_state=42)\n",
    "y_train, y_test = y_train.squeeze(), y_test.squeeze()"
   ]
  },
  {
   "cell_type": "code",
   "execution_count": 5,
   "id": "408d60f8",
   "metadata": {},
   "outputs": [
    {
     "name": "stdout",
     "output_type": "stream",
     "text": [
      "cuda\n"
     ]
    }
   ],
   "source": [
    "device = 'cuda' if torch.cuda.is_available() else 'cpu'\n",
    "print(device)\n",
    "# Our data was in Numpy arrays, but we need to transform them\n",
    "# into PyTorch tensors and then send them to the\n",
    "# chosen device\n",
    "x_train_tensor = torch.as_tensor(X_train).float().to(device)\n",
    "y_train_tensor = torch.as_tensor(y_train).float().to(device)"
   ]
  },
  {
   "cell_type": "markdown",
   "id": "18d796c7",
   "metadata": {},
   "source": [
    "## Linear Regression with `nn.Linear` in PyTorch\n",
    "\n",
    "In PyTorch, we can build a simple linear regression model for:\n",
    "\n",
    "$$\n",
    "y = wx + b\n",
    "$$\n",
    "\n",
    "using the `nn.Linear` module.\n",
    "\n",
    "### Step 1: Import Libraries"
   ]
  },
  {
   "cell_type": "code",
   "execution_count": null,
   "id": "9f4a061f",
   "metadata": {},
   "outputs": [
    {
     "name": "stdout",
     "output_type": "stream",
     "text": [
      "weight: tensor([[0.2904]])\n",
      "bias: tensor([-0.7065])\n"
     ]
    }
   ],
   "source": [
    "import torch.nn as nn\n",
    "\n",
    "# Define a linear model: y = wx + b\n",
    "model = nn.Linear(in_features=1, out_features=1)\n",
    "\n",
    "for name, param in model.named_parameters():\n",
    "    print(f\"{name}: {param.data}\")"
   ]
  },
  {
   "cell_type": "markdown",
   "id": "dcd6ca47",
   "metadata": {},
   "source": [
    "## Training Loop Breakdown in PyTorch\n",
    "\n",
    "This outlines each stage of the training loop as shown in the diagram — and how it maps to actual PyTorch code using a simple linear regression model.\n",
    "\n",
    "### Step 1: Random Initialization of Model Parameters\n",
    "\n",
    "```python\n",
    "model = nn.Linear(in_features=1, out_features=1)\n",
    "```\n",
    "\n",
    "- PyTorch initializes the weights (`w`) and bias (`b`) randomly.\n",
    "- These are the parameters that will be updated during training.\n",
    "\n",
    "\n",
    "### Step 2: Forward Pass\n",
    "\n",
    "```python\n",
    "y_pred = model(X_train_scaled)\n",
    "```\n",
    "\n",
    "- This computes the model’s output (predictions) using the current values of `w` and `b`.\n",
    "- Mathematically:  \n",
    "  $$\\hat{y} = wx + b$$\n",
    "\n",
    "\n",
    "### Step 3: Computing Loss & Gradients\n",
    "\n",
    "```python\n",
    "loss = criterion(y_pred, y_train)   # Mean Squared Error\n",
    "optimizer.zero_grad()               # Clear previous gradients\n",
    "loss.backward()                     # Backward pass: compute gradients\n",
    "```\n",
    "\n",
    "- Compute the loss between predicted and true values.\n",
    "- Backpropagation computes the gradient of the loss with respect to model parameters.\n",
    "\n",
    "\n",
    "### Step 4: Updating Model Parameters\n",
    "\n",
    "```python\n",
    "optimizer.step()\n",
    "```\n",
    "\n",
    "- Applies the gradients to update the parameters:\n",
    "  $$\\theta = \\theta - \\eta \\cdot \\nabla_\\theta L$$\n",
    "- `optimizer.step()` performs the parameter update using the learning rate (`η`).\n",
    "\n",
    "### Step 5: Repeat\n",
    "\n",
    "```python\n",
    "for epoch in range(epochs):\n",
    "    ...\n",
    "```\n",
    "\n",
    "- Repeat the above steps for multiple epochs to improve the model.\n"
   ]
  },
  {
   "cell_type": "code",
   "execution_count": 10,
   "id": "1d8caef5",
   "metadata": {},
   "outputs": [
    {
     "name": "stdout",
     "output_type": "stream",
     "text": [
      "Epoch  10 | Loss: 1545.8588\n",
      "Epoch  20 | Loss: 1540.3574\n",
      "Epoch  30 | Loss: 1536.7533\n",
      "Epoch  40 | Loss: 1534.3890\n",
      "Epoch  50 | Loss: 1532.8359\n",
      "Epoch  60 | Loss: 1531.8145\n",
      "Epoch  70 | Loss: 1531.1415\n",
      "Epoch  80 | Loss: 1530.6971\n",
      "Epoch  90 | Loss: 1530.4034\n",
      "Epoch 100 | Loss: 1530.2089\n"
     ]
    },
    {
     "name": "stderr",
     "output_type": "stream",
     "text": [
      "/home/waleed/micromamba/envs/pytorch/lib/python3.13/site-packages/torch/nn/modules/loss.py:610: UserWarning: Using a target size (torch.Size([80])) that is different to the input size (torch.Size([80, 1])). This will likely lead to incorrect results due to broadcasting. Please ensure they have the same size.\n",
      "  return F.mse_loss(input, target, reduction=self.reduction)\n"
     ]
    },
    {
     "data": {
      "image/png": "[encoded data removed]",
      "text/plain": [
       "<Figure size 700x400 with 1 Axes>"
      ]
     },
     "metadata": {},
     "output_type": "display_data"
    },
    {
     "name": "stdout",
     "output_type": "stream",
     "text": [
      "\n",
      "Learned parameters: w = 0.0619, b = -4.8626\n"
     ]
    }
   ],
   "source": [
    "import torch\n",
    "import torch.nn as nn\n",
    "import torch.optim as optim\n",
    "import matplotlib.pyplot as plt\n",
    "\n",
    "# -----------------------------------\n",
    "# 1. Define the model\n",
    "# -----------------------------------\n",
    "model = nn.Linear(in_features=1, out_features=1)\n",
    "# move the model to GPU\n",
    "model = model.to(device=device)\n",
    "\n",
    "# -----------------------------------\n",
    "# 2. Define loss function and optimizer\n",
    "# -----------------------------------\n",
    "lr = 0.01\n",
    "criterion = nn.MSELoss()\n",
    "optimizer = optim.SGD(model.parameters(), lr=lr)\n",
    "\n",
    "# -----------------------------------\n",
    "# 3. Training loop\n",
    "# -----------------------------------\n",
    "epochs = 100\n",
    "loss_vals = []\n",
    "\n",
    "for epoch in range(epochs):\n",
    "    model.train()\n",
    "\n",
    "    # Forward pass\n",
    "    y_pred = model(x_train_tensor)\n",
    "\n",
    "    # Compute loss\n",
    "    loss = criterion(y_pred, y_train_tensor)\n",
    "    loss_vals.append(loss.item())  # Save loss for visualization\n",
    "\n",
    "    # Backward pass and optimization\n",
    "    optimizer.zero_grad()\n",
    "    loss.backward()\n",
    "    optimizer.step()\n",
    "\n",
    "    # Optional: print every 10 epochs\n",
    "    if (epoch + 1) % 10 == 0:\n",
    "        print(f\"Epoch {epoch+1:3d} | Loss: {loss.item():.4f}\")\n",
    "\n",
    "# -----------------------------------\n",
    "# 6. Visualize loss curve\n",
    "# -----------------------------------\n",
    "plt.figure(figsize=(7, 4))\n",
    "plt.plot(loss_vals, '-o', color='blue')\n",
    "plt.title(\"Training Loss over Epochs\")\n",
    "plt.xlabel(\"Epoch\")\n",
    "plt.ylabel(\"MSE Loss\")\n",
    "plt.grid(True)\n",
    "plt.tight_layout()\n",
    "plt.show()\n",
    "\n",
    "# -----------------------------------\n",
    "# 7. Print learned parameters\n",
    "# -----------------------------------\n",
    "w_learned = model.weight.item()\n",
    "b_learned = model.bias.item()\n",
    "print(f\"\\nLearned parameters: w = {w_learned:.4f}, b = {b_learned:.4f}\")\n"
   ]
  },
  {
   "cell_type": "code",
   "execution_count": null,
   "id": "3e0e884f",
   "metadata": {},
   "outputs": [],
   "source": []
  }
 ],
 "metadata": {
  "kernelspec": {
   "display_name": "pytorch",
   "language": "python",
   "name": "python3"
  },
  "language_info": {
   "codemirror_mode": {
    "name": "ipython",
    "version": 3
   },
   "file_extension": ".py",
   "mimetype": "text/x-python",
   "name": "python",
   "nbconvert_exporter": "python",
   "pygments_lexer": "ipython3",
   "version": "3.13.2"
  }
 },
 "nbformat": 4,
 "nbformat_minor": 5
}

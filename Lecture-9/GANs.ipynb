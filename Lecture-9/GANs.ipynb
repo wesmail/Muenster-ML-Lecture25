{
 "cells": [
  {
   "cell_type": "markdown",
   "id": "aad783f1",
   "metadata": {},
   "source": [
    "## Generative Adversarial Networks (GANs)\n",
    "\n",
    "**Generative Adversarial Networks (GANs)** are a powerful class of generative models introduced by Ian Goodfellow in 2014. GANs are designed to **generate realistic data**, such as images, from random noise.\n",
    "\n",
    "A GAN consists of two competing neural networks:\n",
    "\n",
    "- **Generator (G)**: Learns to generate fake data that resemble the real data.\n",
    "- **Discriminator (D)**: Learns to distinguish between real data and fake (generated) data.\n",
    "\n",
    "The two networks play a **minimax game**:\n",
    "\n",
    "$$\n",
    "\\min_G \\max_D \\ \\mathbb{E}_{x \\sim p_{\\text{data}}(x)} [\\log D(x)] + \\mathbb{E}_{z \\sim p(z)} [\\log (1 - D(G(z)))]\n",
    "$$\n",
    "\n",
    "- $x$: a real data sample from the true distribution $p_{\\text{data}}$\n",
    "- $z$: a random noise vector (e.g., from $\\mathcal{N}(0, I)$)\n",
    "- $G(z)$: a fake data sample generated from noise\n",
    "- $D(x)$: the discriminator's estimate of the probability that $x$ is real\n",
    "\n",
    "##  Intuition\n",
    "\n",
    "- The **generator** tries to \"fool\" the discriminator by generating increasingly realistic samples.\n",
    "- The **discriminator** tries to become better at spotting fakes.\n",
    "- Training continues until the discriminator can no longer distinguish real from fake — i.e., $D(G(z)) \\approx 0.5$\n",
    "\n",
    "#### Real-World Example: [ThisPersonDoesNotExist.com](https://thispersondoesnotexist.com)\n",
    "\n",
    "The website [thispersondoesnotexist.com](https://thispersondoesnotexist.com) uses a **high-end GAN** (StyleGAN2 by NVIDIA) to generate ultra-realistic portraits of people who **do not exist**. Each time you refresh the page, a new human face is generated — not copied from a dataset, but imagined by the GAN.\n",
    "\n",
    "This is a stunning example of the creative potential of GANs in the wild.\n",
    "\n",
    "\n",
    "## Summary\n",
    "\n",
    "| Component    | Role                                      |\n",
    "|--------------|-------------------------------------------|\n",
    "| Generator    | Maps noise $z$ to data-like outputs $G(z)$ |\n",
    "| Discriminator| Distinguishes real data $x$ from fakes $G(z)$ |\n",
    "| Training     | Adversarial, like a game between G and D   |\n",
    "\n",
    "GANs have been used in **image generation**, **style transfer**, **super-resolution**, **data augmentation**, and **deepfake creation**.\n",
    "\n"
   ]
  },
  {
   "cell_type": "markdown",
   "id": "37982463",
   "metadata": {},
   "source": [
    "### Demonstrating the Power of GANs on Fashion-MNIST\n",
    "\n",
    "In this notebook, we will explore the power of **GANs** by training a model on the **Fashion-MNIST dataset**, a more challenging and modern alternative to the original MNIST digits dataset.\n",
    "\n",
    "### What is the Fashion-MNIST Dataset?\n",
    "\n",
    "Fashion-MNIST is a large-scale dataset of grayscale images of **clothing and accessories**. It was designed to serve as a **drop-in replacement for MNIST**, but with more visually complex and diverse content.\n",
    "\n",
    "- **70,000** total images (60,000 training + 10,000 testing)\n",
    "- Each image is **28×28 pixels**, grayscale\n",
    "- **10 classes**, including:\n",
    "  - *T-shirt/top*, *Trouser*, *Pullover*, *Dress*, *Coat*, *Sandal*, *Shirt*, *Sneaker*, *Bag*, *Ankle boot*\n",
    "- Images are centered and size-normalized, making it a clean and standardized dataset\n",
    "\n",
    "Fashion-MNIST is ideal for generative modeling because:\n",
    "- It has **semantic structure** and more variability than MNIST digits\n",
    "- Still remains **lightweight and quick to train on**\n",
    "- Helps demonstrate how GANs learn visual distributions beyond digits\n",
    "\n",
    "> For example, we can train a GAN to generate new clothing items, such as realistic-looking shoes or dresses, from random noise vectors."
   ]
  },
  {
   "cell_type": "code",
   "execution_count": 1,
   "id": "095f1646",
   "metadata": {},
   "outputs": [],
   "source": [
    "import os\n",
    "import torch\n",
    "import torchvision\n",
    "from torchvision import datasets, transforms\n",
    "from torch.utils.data import DataLoader, Subset\n",
    "from sklearn.model_selection import train_test_split\n",
    "import matplotlib.pyplot as plt"
   ]
  },
  {
   "cell_type": "code",
   "execution_count": 7,
   "id": "beef1477",
   "metadata": {},
   "outputs": [
    {
     "name": "stderr",
     "output_type": "stream",
     "text": [
      "100%|██████████| 26.4M/26.4M [00:04<00:00, 6.04MB/s]\n",
      "100%|██████████| 29.5k/29.5k [00:00<00:00, 87.9kB/s]\n",
      "100%|██████████| 4.42M/4.42M [00:00<00:00, 9.51MB/s]\n",
      "100%|██████████| 5.15k/5.15k [00:00<00:00, 3.99MB/s]\n"
     ]
    }
   ],
   "source": [
    "# --------------------------------------------------\n",
    "# Transform: Normalize to [-1, 1] for stable training\n",
    "# --------------------------------------------------\n",
    "transform = transforms.Compose([\n",
    "    transforms.ToTensor(),                      # Convert PIL image to PyTorch tensor [0, 1]\n",
    "    transforms.Normalize((0.5,), (0.5,))        # Normalize to [-1, 1]\n",
    "])\n",
    "\n",
    "# --------------------------------------------------\n",
    "# Download Fashion-MNIST dataset (train & test)\n",
    "# --------------------------------------------------\n",
    "train_dataset = datasets.FashionMNIST(\n",
    "    root='./data',\n",
    "    train=True,\n",
    "    transform=transform,\n",
    "    download=True\n",
    ")\n",
    "\n",
    "test_dataset = datasets.FashionMNIST(\n",
    "    root='./data',\n",
    "    train=False,\n",
    "    transform=transform,\n",
    "    download=True\n",
    ")\n",
    "\n",
    "# --------------------------------------------------\n",
    "# Create DataLoaders\n",
    "# --------------------------------------------------\n",
    "batch_size = 64\n",
    "\n",
    "train_loader = DataLoader(\n",
    "    train_dataset,\n",
    "    batch_size=batch_size,\n",
    "    shuffle=True,\n",
    "    num_workers=2,   # Adjust for your machine\n",
    "    pin_memory=True  # Recommended for GPU\n",
    ")\n",
    "\n",
    "test_loader = DataLoader(\n",
    "    test_dataset,\n",
    "    batch_size=batch_size,\n",
    "    shuffle=False,\n",
    "    num_workers=2,\n",
    "    pin_memory=True\n",
    ")\n",
    "\n",
    "# --------------------------------------------------\n",
    "# Class names for reference\n",
    "# --------------------------------------------------\n",
    "fashion_classes = [\n",
    "    \"T-shirt/top\", \"Trouser\", \"Pullover\", \"Dress\", \"Coat\",\n",
    "    \"Sandal\", \"Shirt\", \"Sneaker\", \"Bag\", \"Ankle boot\"\n",
    "]\n"
   ]
  },
  {
   "cell_type": "code",
   "execution_count": 10,
   "id": "4303c9ef",
   "metadata": {},
   "outputs": [
    {
     "name": "stdout",
     "output_type": "stream",
     "text": [
      "torch.Size([1, 28, 28])\n",
      "torch.Size([1, 28, 28])\n",
      "torch.Size([1, 28, 28])\n",
      "torch.Size([1, 28, 28])\n",
      "torch.Size([1, 28, 28])\n",
      "torch.Size([1, 28, 28])\n",
      "torch.Size([1, 28, 28])\n",
      "torch.Size([1, 28, 28])\n"
     ]
    },
    {
     "data": {
      "image/png": "[encoded data removed]",
      "text/plain": [
       "<Figure size 1200x300 with 8 Axes>"
      ]
     },
     "metadata": {},
     "output_type": "display_data"
    }
   ],
   "source": [
    "import matplotlib.pyplot as plt\n",
    "\n",
    "# Get a batch\n",
    "images, labels = next(iter(train_loader))\n",
    "\n",
    "# Unnormalize for display\n",
    "images = images * 0.5 + 0.5  # Rescale back to [0, 1]\n",
    "\n",
    "# Plot 8 samples\n",
    "plt.figure(figsize=(12, 3))\n",
    "for i in range(8):\n",
    "    plt.subplot(1, 8, i + 1)\n",
    "    plt.imshow(images[i].squeeze())\n",
    "    print(images[i].shape)\n",
    "    plt.title(fashion_classes[labels[i]])\n",
    "    plt.axis(\"off\")\n",
    "plt.suptitle(\"Fashion-MNIST Samples\")\n",
    "plt.show()"
   ]
  },
  {
   "cell_type": "markdown",
   "id": "9cf70694",
   "metadata": {},
   "source": [
    "## Let's buid a simple GAN model"
   ]
  },
  {
   "cell_type": "code",
   "execution_count": 11,
   "id": "76f2e9cb",
   "metadata": {},
   "outputs": [],
   "source": [
    "import torch\n",
    "import torch.nn as nn\n",
    "import torch.optim as optim\n",
    "from torchvision.utils import make_grid\n",
    "import matplotlib.pyplot as plt\n",
    "import numpy as np\n",
    "\n",
    "# Basic GAN hyperparameters\n",
    "batch_size = 128\n",
    "latent_dim = 100           # Size of latent input z\n",
    "hidden_dim = 512           # Number of neurons per layer\n",
    "img_shape = (1, 28, 28)     # Fashion-MNIST: 64x64 RGB images\n",
    "flattened_dim = int(np.prod(img_shape))\n",
    "num_epochs = 100\n",
    "device = torch.device(\"cuda\" if torch.cuda.is_available() else \"cpu\")\n",
    "\n",
    "\n",
    "def dense_block(in_features, out_features, leak=0.2):\n",
    "    \"\"\"\n",
    "    Returns a sequential block: Linear → LeakyReLU → LayerNorm\n",
    "    \"\"\"\n",
    "    return nn.Sequential(\n",
    "        nn.Linear(in_features, out_features),\n",
    "        nn.LeakyReLU(leak),\n",
    "        nn.LayerNorm(out_features)\n",
    "    )\n",
    "\n",
    "def build_simple_gan(latent_dim, hidden_dim, output_shape, leak=0.2):\n",
    "    \"\"\"\n",
    "    Constructs a simple GAN architecture.\n",
    "\n",
    "    Args:\n",
    "        latent_dim: Dimension of the latent space (input to generator)\n",
    "        hidden_dim: Number of hidden units in generator and discriminator\n",
    "        output_shape: Output image shape (e.g., (1, 28, 28))\n",
    "        leak: LeakyReLU negative slope\n",
    "    Returns:\n",
    "        G: Generator model\n",
    "        D: Discriminator model\n",
    "    \"\"\"\n",
    "    flat_output = int(np.prod(output_shape))\n",
    "\n",
    "    # Generator: z → image\n",
    "    G = nn.Sequential(\n",
    "        dense_block(latent_dim, hidden_dim),\n",
    "        dense_block(hidden_dim, hidden_dim),\n",
    "        nn.Linear(hidden_dim, flat_output),\n",
    "        nn.Tanh(),                         # Output in [-1, 1]\n",
    "        nn.Unflatten(1, output_shape)      # Shape to (B, 1, 28, 28)\n",
    "    )\n",
    "\n",
    "    # Discriminator: image → 0/1\n",
    "    D = nn.Sequential(\n",
    "        nn.Flatten(),\n",
    "        dense_block(flat_output, hidden_dim),\n",
    "        dense_block(hidden_dim, hidden_dim),\n",
    "        nn.Linear(hidden_dim, 1),\n",
    "        nn.Sigmoid()                       # Output probability\n",
    "    )\n",
    "\n",
    "    return G.to(device), D.to(device)"
   ]
  },
  {
   "cell_type": "code",
   "execution_count": 12,
   "id": "88343054",
   "metadata": {},
   "outputs": [
    {
     "name": "stderr",
     "output_type": "stream",
     "text": [
      "Epoch 1/100: 100%|██████████| 469/469 [00:07<00:00, 62.34it/s]\n"
     ]
    },
    {
     "name": "stdout",
     "output_type": "stream",
     "text": [
      "Epoch 01 | D Loss: 0.5909 | G Loss: 2.1266\n"
     ]
    },
    {
     "name": "stderr",
     "output_type": "stream",
     "text": [
      "Epoch 2/100: 100%|██████████| 469/469 [00:06<00:00, 67.17it/s]\n"
     ]
    },
    {
     "name": "stdout",
     "output_type": "stream",
     "text": [
      "Epoch 02 | D Loss: 0.8044 | G Loss: 1.8593\n"
     ]
    },
    {
     "name": "stderr",
     "output_type": "stream",
     "text": [
      "Epoch 3/100: 100%|██████████| 469/469 [00:07<00:00, 64.64it/s]\n"
     ]
    },
    {
     "name": "stdout",
     "output_type": "stream",
     "text": [
      "Epoch 03 | D Loss: 0.8616 | G Loss: 1.6712\n"
     ]
    },
    {
     "name": "stderr",
     "output_type": "stream",
     "text": [
      "Epoch 4/100: 100%|██████████| 469/469 [00:07<00:00, 61.81it/s]\n"
     ]
    },
    {
     "name": "stdout",
     "output_type": "stream",
     "text": [
      "Epoch 04 | D Loss: 0.8568 | G Loss: 1.6238\n"
     ]
    },
    {
     "name": "stderr",
     "output_type": "stream",
     "text": [
      "Epoch 5/100: 100%|██████████| 469/469 [00:07<00:00, 65.81it/s]\n"
     ]
    },
    {
     "name": "stdout",
     "output_type": "stream",
     "text": [
      "Epoch 05 | D Loss: 0.8392 | G Loss: 1.6574\n"
     ]
    },
    {
     "name": "stderr",
     "output_type": "stream",
     "text": [
      "Epoch 6/100: 100%|██████████| 469/469 [00:07<00:00, 64.46it/s]\n"
     ]
    },
    {
     "name": "stdout",
     "output_type": "stream",
     "text": [
      "Epoch 06 | D Loss: 0.8410 | G Loss: 1.6465\n"
     ]
    },
    {
     "name": "stderr",
     "output_type": "stream",
     "text": [
      "Epoch 7/100: 100%|██████████| 469/469 [00:07<00:00, 60.28it/s]\n"
     ]
    },
    {
     "name": "stdout",
     "output_type": "stream",
     "text": [
      "Epoch 07 | D Loss: 0.8426 | G Loss: 1.6422\n"
     ]
    },
    {
     "name": "stderr",
     "output_type": "stream",
     "text": [
      "Epoch 8/100: 100%|██████████| 469/469 [00:08<00:00, 55.24it/s]\n"
     ]
    },
    {
     "name": "stdout",
     "output_type": "stream",
     "text": [
      "Epoch 08 | D Loss: 0.8459 | G Loss: 1.6191\n"
     ]
    },
    {
     "name": "stderr",
     "output_type": "stream",
     "text": [
      "Epoch 9/100: 100%|██████████| 469/469 [00:07<00:00, 61.85it/s]\n"
     ]
    },
    {
     "name": "stdout",
     "output_type": "stream",
     "text": [
      "Epoch 09 | D Loss: 0.8552 | G Loss: 1.5889\n"
     ]
    },
    {
     "name": "stderr",
     "output_type": "stream",
     "text": [
      "Epoch 10/100: 100%|██████████| 469/469 [00:07<00:00, 63.80it/s]\n"
     ]
    },
    {
     "name": "stdout",
     "output_type": "stream",
     "text": [
      "Epoch 10 | D Loss: 0.8588 | G Loss: 1.5595\n"
     ]
    },
    {
     "name": "stderr",
     "output_type": "stream",
     "text": [
      "Epoch 11/100: 100%|██████████| 469/469 [00:07<00:00, 64.69it/s]\n"
     ]
    },
    {
     "name": "stdout",
     "output_type": "stream",
     "text": [
      "Epoch 11 | D Loss: 0.8633 | G Loss: 1.5481\n"
     ]
    },
    {
     "name": "stderr",
     "output_type": "stream",
     "text": [
      "Epoch 12/100: 100%|██████████| 469/469 [00:07<00:00, 59.73it/s]\n"
     ]
    },
    {
     "name": "stdout",
     "output_type": "stream",
     "text": [
      "Epoch 12 | D Loss: 0.8602 | G Loss: 1.5500\n"
     ]
    },
    {
     "name": "stderr",
     "output_type": "stream",
     "text": [
      "Epoch 13/100: 100%|██████████| 469/469 [00:07<00:00, 63.01it/s]\n"
     ]
    },
    {
     "name": "stdout",
     "output_type": "stream",
     "text": [
      "Epoch 13 | D Loss: 0.8612 | G Loss: 1.5440\n"
     ]
    },
    {
     "name": "stderr",
     "output_type": "stream",
     "text": [
      "Epoch 14/100: 100%|██████████| 469/469 [00:07<00:00, 65.19it/s]\n"
     ]
    },
    {
     "name": "stdout",
     "output_type": "stream",
     "text": [
      "Epoch 14 | D Loss: 0.8629 | G Loss: 1.5517\n"
     ]
    },
    {
     "name": "stderr",
     "output_type": "stream",
     "text": [
      "Epoch 15/100: 100%|██████████| 469/469 [00:07<00:00, 60.37it/s]\n"
     ]
    },
    {
     "name": "stdout",
     "output_type": "stream",
     "text": [
      "Epoch 15 | D Loss: 0.8574 | G Loss: 1.5479\n"
     ]
    },
    {
     "name": "stderr",
     "output_type": "stream",
     "text": [
      "Epoch 16/100: 100%|██████████| 469/469 [00:08<00:00, 56.04it/s]\n"
     ]
    },
    {
     "name": "stdout",
     "output_type": "stream",
     "text": [
      "Epoch 16 | D Loss: 0.8587 | G Loss: 1.5533\n"
     ]
    },
    {
     "name": "stderr",
     "output_type": "stream",
     "text": [
      "Epoch 17/100: 100%|██████████| 469/469 [00:08<00:00, 58.32it/s]\n"
     ]
    },
    {
     "name": "stdout",
     "output_type": "stream",
     "text": [
      "Epoch 17 | D Loss: 0.8595 | G Loss: 1.5416\n"
     ]
    },
    {
     "name": "stderr",
     "output_type": "stream",
     "text": [
      "Epoch 18/100: 100%|██████████| 469/469 [00:07<00:00, 60.85it/s]\n"
     ]
    },
    {
     "name": "stdout",
     "output_type": "stream",
     "text": [
      "Epoch 18 | D Loss: 0.8604 | G Loss: 1.5555\n"
     ]
    },
    {
     "name": "stderr",
     "output_type": "stream",
     "text": [
      "Epoch 19/100: 100%|██████████| 469/469 [00:07<00:00, 63.59it/s]\n"
     ]
    },
    {
     "name": "stdout",
     "output_type": "stream",
     "text": [
      "Epoch 19 | D Loss: 0.8607 | G Loss: 1.5469\n"
     ]
    },
    {
     "name": "stderr",
     "output_type": "stream",
     "text": [
      "Epoch 20/100: 100%|██████████| 469/469 [00:07<00:00, 61.48it/s]\n"
     ]
    },
    {
     "name": "stdout",
     "output_type": "stream",
     "text": [
      "Epoch 20 | D Loss: 0.8607 | G Loss: 1.5432\n"
     ]
    },
    {
     "name": "stderr",
     "output_type": "stream",
     "text": [
      "Epoch 21/100: 100%|██████████| 469/469 [00:07<00:00, 60.55it/s]\n"
     ]
    },
    {
     "name": "stdout",
     "output_type": "stream",
     "text": [
      "Epoch 21 | D Loss: 0.8616 | G Loss: 1.5362\n"
     ]
    },
    {
     "name": "stderr",
     "output_type": "stream",
     "text": [
      "Epoch 22/100: 100%|██████████| 469/469 [00:07<00:00, 62.49it/s]\n"
     ]
    },
    {
     "name": "stdout",
     "output_type": "stream",
     "text": [
      "Epoch 22 | D Loss: 0.8613 | G Loss: 1.5305\n"
     ]
    },
    {
     "name": "stderr",
     "output_type": "stream",
     "text": [
      "Epoch 23/100: 100%|██████████| 469/469 [00:07<00:00, 62.16it/s]\n"
     ]
    },
    {
     "name": "stdout",
     "output_type": "stream",
     "text": [
      "Epoch 23 | D Loss: 0.8619 | G Loss: 1.5303\n"
     ]
    },
    {
     "name": "stderr",
     "output_type": "stream",
     "text": [
      "Epoch 24/100: 100%|██████████| 469/469 [00:07<00:00, 62.41it/s]\n"
     ]
    },
    {
     "name": "stdout",
     "output_type": "stream",
     "text": [
      "Epoch 24 | D Loss: 0.8589 | G Loss: 1.5466\n"
     ]
    },
    {
     "name": "stderr",
     "output_type": "stream",
     "text": [
      "Epoch 25/100: 100%|██████████| 469/469 [00:07<00:00, 63.97it/s]\n"
     ]
    },
    {
     "name": "stdout",
     "output_type": "stream",
     "text": [
      "Epoch 25 | D Loss: 0.8589 | G Loss: 1.5418\n"
     ]
    },
    {
     "name": "stderr",
     "output_type": "stream",
     "text": [
      "Epoch 26/100: 100%|██████████| 469/469 [00:07<00:00, 64.31it/s]\n"
     ]
    },
    {
     "name": "stdout",
     "output_type": "stream",
     "text": [
      "Epoch 26 | D Loss: 0.8588 | G Loss: 1.5454\n"
     ]
    },
    {
     "name": "stderr",
     "output_type": "stream",
     "text": [
      "Epoch 27/100: 100%|██████████| 469/469 [00:07<00:00, 63.60it/s]\n"
     ]
    },
    {
     "name": "stdout",
     "output_type": "stream",
     "text": [
      "Epoch 27 | D Loss: 0.8584 | G Loss: 1.5444\n"
     ]
    },
    {
     "name": "stderr",
     "output_type": "stream",
     "text": [
      "Epoch 28/100: 100%|██████████| 469/469 [00:07<00:00, 63.19it/s]\n"
     ]
    },
    {
     "name": "stdout",
     "output_type": "stream",
     "text": [
      "Epoch 28 | D Loss: 0.8553 | G Loss: 1.5332\n"
     ]
    },
    {
     "name": "stderr",
     "output_type": "stream",
     "text": [
      "Epoch 29/100: 100%|██████████| 469/469 [00:07<00:00, 64.76it/s]\n"
     ]
    },
    {
     "name": "stdout",
     "output_type": "stream",
     "text": [
      "Epoch 29 | D Loss: 0.8567 | G Loss: 1.5400\n"
     ]
    },
    {
     "name": "stderr",
     "output_type": "stream",
     "text": [
      "Epoch 30/100: 100%|██████████| 469/469 [00:07<00:00, 63.99it/s]\n"
     ]
    },
    {
     "name": "stdout",
     "output_type": "stream",
     "text": [
      "Epoch 30 | D Loss: 0.8551 | G Loss: 1.5406\n"
     ]
    },
    {
     "name": "stderr",
     "output_type": "stream",
     "text": [
      "Epoch 31/100: 100%|██████████| 469/469 [00:07<00:00, 64.64it/s]\n"
     ]
    },
    {
     "name": "stdout",
     "output_type": "stream",
     "text": [
      "Epoch 31 | D Loss: 0.8528 | G Loss: 1.5541\n"
     ]
    },
    {
     "name": "stderr",
     "output_type": "stream",
     "text": [
      "Epoch 32/100: 100%|██████████| 469/469 [00:07<00:00, 64.10it/s]\n"
     ]
    },
    {
     "name": "stdout",
     "output_type": "stream",
     "text": [
      "Epoch 32 | D Loss: 0.8526 | G Loss: 1.5375\n"
     ]
    },
    {
     "name": "stderr",
     "output_type": "stream",
     "text": [
      "Epoch 33/100: 100%|██████████| 469/469 [00:07<00:00, 62.14it/s]\n"
     ]
    },
    {
     "name": "stdout",
     "output_type": "stream",
     "text": [
      "Epoch 33 | D Loss: 0.8518 | G Loss: 1.5655\n"
     ]
    },
    {
     "name": "stderr",
     "output_type": "stream",
     "text": [
      "Epoch 34/100: 100%|██████████| 469/469 [00:07<00:00, 64.45it/s]\n"
     ]
    },
    {
     "name": "stdout",
     "output_type": "stream",
     "text": [
      "Epoch 34 | D Loss: 0.8461 | G Loss: 1.5528\n"
     ]
    },
    {
     "name": "stderr",
     "output_type": "stream",
     "text": [
      "Epoch 35/100: 100%|██████████| 469/469 [00:07<00:00, 61.70it/s]\n"
     ]
    },
    {
     "name": "stdout",
     "output_type": "stream",
     "text": [
      "Epoch 35 | D Loss: 0.8457 | G Loss: 1.5607\n"
     ]
    },
    {
     "name": "stderr",
     "output_type": "stream",
     "text": [
      "Epoch 36/100: 100%|██████████| 469/469 [00:07<00:00, 63.16it/s]\n"
     ]
    },
    {
     "name": "stdout",
     "output_type": "stream",
     "text": [
      "Epoch 36 | D Loss: 0.8456 | G Loss: 1.5529\n"
     ]
    },
    {
     "name": "stderr",
     "output_type": "stream",
     "text": [
      "Epoch 37/100: 100%|██████████| 469/469 [00:07<00:00, 64.87it/s]\n"
     ]
    },
    {
     "name": "stdout",
     "output_type": "stream",
     "text": [
      "Epoch 37 | D Loss: 0.8415 | G Loss: 1.5582\n"
     ]
    },
    {
     "name": "stderr",
     "output_type": "stream",
     "text": [
      "Epoch 38/100: 100%|██████████| 469/469 [00:07<00:00, 63.50it/s]\n"
     ]
    },
    {
     "name": "stdout",
     "output_type": "stream",
     "text": [
      "Epoch 38 | D Loss: 0.8411 | G Loss: 1.5651\n"
     ]
    },
    {
     "name": "stderr",
     "output_type": "stream",
     "text": [
      "Epoch 39/100: 100%|██████████| 469/469 [00:07<00:00, 64.29it/s]\n"
     ]
    },
    {
     "name": "stdout",
     "output_type": "stream",
     "text": [
      "Epoch 39 | D Loss: 0.8388 | G Loss: 1.5758\n"
     ]
    },
    {
     "name": "stderr",
     "output_type": "stream",
     "text": [
      "Epoch 40/100: 100%|██████████| 469/469 [00:07<00:00, 63.12it/s]\n"
     ]
    },
    {
     "name": "stdout",
     "output_type": "stream",
     "text": [
      "Epoch 40 | D Loss: 0.8358 | G Loss: 1.5739\n"
     ]
    },
    {
     "name": "stderr",
     "output_type": "stream",
     "text": [
      "Epoch 41/100: 100%|██████████| 469/469 [00:07<00:00, 63.36it/s]\n"
     ]
    },
    {
     "name": "stdout",
     "output_type": "stream",
     "text": [
      "Epoch 41 | D Loss: 0.8312 | G Loss: 1.5880\n"
     ]
    },
    {
     "name": "stderr",
     "output_type": "stream",
     "text": [
      "Epoch 42/100: 100%|██████████| 469/469 [00:07<00:00, 64.11it/s]\n"
     ]
    },
    {
     "name": "stdout",
     "output_type": "stream",
     "text": [
      "Epoch 42 | D Loss: 0.8337 | G Loss: 1.5802\n"
     ]
    },
    {
     "name": "stderr",
     "output_type": "stream",
     "text": [
      "Epoch 43/100: 100%|██████████| 469/469 [00:07<00:00, 65.80it/s]\n"
     ]
    },
    {
     "name": "stdout",
     "output_type": "stream",
     "text": [
      "Epoch 43 | D Loss: 0.8326 | G Loss: 1.5873\n"
     ]
    },
    {
     "name": "stderr",
     "output_type": "stream",
     "text": [
      "Epoch 44/100: 100%|██████████| 469/469 [00:07<00:00, 65.46it/s]\n"
     ]
    },
    {
     "name": "stdout",
     "output_type": "stream",
     "text": [
      "Epoch 44 | D Loss: 0.8270 | G Loss: 1.5930\n"
     ]
    },
    {
     "name": "stderr",
     "output_type": "stream",
     "text": [
      "Epoch 45/100: 100%|██████████| 469/469 [00:07<00:00, 63.91it/s]\n"
     ]
    },
    {
     "name": "stdout",
     "output_type": "stream",
     "text": [
      "Epoch 45 | D Loss: 0.8252 | G Loss: 1.6117\n"
     ]
    },
    {
     "name": "stderr",
     "output_type": "stream",
     "text": [
      "Epoch 46/100: 100%|██████████| 469/469 [00:07<00:00, 64.54it/s]\n"
     ]
    },
    {
     "name": "stdout",
     "output_type": "stream",
     "text": [
      "Epoch 46 | D Loss: 0.8266 | G Loss: 1.5945\n"
     ]
    },
    {
     "name": "stderr",
     "output_type": "stream",
     "text": [
      "Epoch 47/100: 100%|██████████| 469/469 [00:07<00:00, 62.78it/s]\n"
     ]
    },
    {
     "name": "stdout",
     "output_type": "stream",
     "text": [
      "Epoch 47 | D Loss: 0.8235 | G Loss: 1.6084\n"
     ]
    },
    {
     "name": "stderr",
     "output_type": "stream",
     "text": [
      "Epoch 48/100: 100%|██████████| 469/469 [00:07<00:00, 63.44it/s]\n"
     ]
    },
    {
     "name": "stdout",
     "output_type": "stream",
     "text": [
      "Epoch 48 | D Loss: 0.8213 | G Loss: 1.6040\n"
     ]
    },
    {
     "name": "stderr",
     "output_type": "stream",
     "text": [
      "Epoch 49/100: 100%|██████████| 469/469 [00:07<00:00, 62.38it/s]\n"
     ]
    },
    {
     "name": "stdout",
     "output_type": "stream",
     "text": [
      "Epoch 49 | D Loss: 0.8165 | G Loss: 1.6227\n"
     ]
    },
    {
     "name": "stderr",
     "output_type": "stream",
     "text": [
      "Epoch 50/100: 100%|██████████| 469/469 [00:07<00:00, 61.56it/s]\n"
     ]
    },
    {
     "name": "stdout",
     "output_type": "stream",
     "text": [
      "Epoch 50 | D Loss: 0.8152 | G Loss: 1.6232\n"
     ]
    },
    {
     "name": "stderr",
     "output_type": "stream",
     "text": [
      "Epoch 51/100: 100%|██████████| 469/469 [00:07<00:00, 63.57it/s]\n"
     ]
    },
    {
     "name": "stdout",
     "output_type": "stream",
     "text": [
      "Epoch 51 | D Loss: 0.8149 | G Loss: 1.6244\n"
     ]
    },
    {
     "name": "stderr",
     "output_type": "stream",
     "text": [
      "Epoch 52/100: 100%|██████████| 469/469 [00:07<00:00, 61.85it/s]\n"
     ]
    },
    {
     "name": "stdout",
     "output_type": "stream",
     "text": [
      "Epoch 52 | D Loss: 0.8111 | G Loss: 1.6370\n"
     ]
    },
    {
     "name": "stderr",
     "output_type": "stream",
     "text": [
      "Epoch 53/100: 100%|██████████| 469/469 [00:07<00:00, 63.24it/s]\n"
     ]
    },
    {
     "name": "stdout",
     "output_type": "stream",
     "text": [
      "Epoch 53 | D Loss: 0.8070 | G Loss: 1.6433\n"
     ]
    },
    {
     "name": "stderr",
     "output_type": "stream",
     "text": [
      "Epoch 54/100: 100%|██████████| 469/469 [00:07<00:00, 64.06it/s]\n"
     ]
    },
    {
     "name": "stdout",
     "output_type": "stream",
     "text": [
      "Epoch 54 | D Loss: 0.8069 | G Loss: 1.6496\n"
     ]
    },
    {
     "name": "stderr",
     "output_type": "stream",
     "text": [
      "Epoch 55/100: 100%|██████████| 469/469 [00:07<00:00, 64.34it/s]\n"
     ]
    },
    {
     "name": "stdout",
     "output_type": "stream",
     "text": [
      "Epoch 55 | D Loss: 0.8018 | G Loss: 1.6463\n"
     ]
    },
    {
     "name": "stderr",
     "output_type": "stream",
     "text": [
      "Epoch 56/100: 100%|██████████| 469/469 [00:07<00:00, 65.15it/s]\n"
     ]
    },
    {
     "name": "stdout",
     "output_type": "stream",
     "text": [
      "Epoch 56 | D Loss: 0.8026 | G Loss: 1.6555\n"
     ]
    },
    {
     "name": "stderr",
     "output_type": "stream",
     "text": [
      "Epoch 57/100: 100%|██████████| 469/469 [00:07<00:00, 62.43it/s]\n"
     ]
    },
    {
     "name": "stdout",
     "output_type": "stream",
     "text": [
      "Epoch 57 | D Loss: 0.7966 | G Loss: 1.6599\n"
     ]
    },
    {
     "name": "stderr",
     "output_type": "stream",
     "text": [
      "Epoch 58/100: 100%|██████████| 469/469 [00:07<00:00, 62.87it/s]\n"
     ]
    },
    {
     "name": "stdout",
     "output_type": "stream",
     "text": [
      "Epoch 58 | D Loss: 0.7958 | G Loss: 1.6743\n"
     ]
    },
    {
     "name": "stderr",
     "output_type": "stream",
     "text": [
      "Epoch 59/100: 100%|██████████| 469/469 [00:07<00:00, 64.64it/s]\n"
     ]
    },
    {
     "name": "stdout",
     "output_type": "stream",
     "text": [
      "Epoch 59 | D Loss: 0.7945 | G Loss: 1.6756\n"
     ]
    },
    {
     "name": "stderr",
     "output_type": "stream",
     "text": [
      "Epoch 60/100: 100%|██████████| 469/469 [00:07<00:00, 65.37it/s]\n"
     ]
    },
    {
     "name": "stdout",
     "output_type": "stream",
     "text": [
      "Epoch 60 | D Loss: 0.7927 | G Loss: 1.6773\n"
     ]
    },
    {
     "name": "stderr",
     "output_type": "stream",
     "text": [
      "Epoch 61/100: 100%|██████████| 469/469 [00:07<00:00, 65.40it/s]\n"
     ]
    },
    {
     "name": "stdout",
     "output_type": "stream",
     "text": [
      "Epoch 61 | D Loss: 0.7872 | G Loss: 1.6822\n"
     ]
    },
    {
     "name": "stderr",
     "output_type": "stream",
     "text": [
      "Epoch 62/100: 100%|██████████| 469/469 [00:07<00:00, 63.69it/s]\n"
     ]
    },
    {
     "name": "stdout",
     "output_type": "stream",
     "text": [
      "Epoch 62 | D Loss: 0.7867 | G Loss: 1.6936\n"
     ]
    },
    {
     "name": "stderr",
     "output_type": "stream",
     "text": [
      "Epoch 63/100: 100%|██████████| 469/469 [00:07<00:00, 64.89it/s]\n"
     ]
    },
    {
     "name": "stdout",
     "output_type": "stream",
     "text": [
      "Epoch 63 | D Loss: 0.7852 | G Loss: 1.7024\n"
     ]
    },
    {
     "name": "stderr",
     "output_type": "stream",
     "text": [
      "Epoch 64/100: 100%|██████████| 469/469 [00:07<00:00, 63.55it/s]\n"
     ]
    },
    {
     "name": "stdout",
     "output_type": "stream",
     "text": [
      "Epoch 64 | D Loss: 0.7841 | G Loss: 1.6953\n"
     ]
    },
    {
     "name": "stderr",
     "output_type": "stream",
     "text": [
      "Epoch 65/100: 100%|██████████| 469/469 [00:07<00:00, 64.17it/s]\n"
     ]
    },
    {
     "name": "stdout",
     "output_type": "stream",
     "text": [
      "Epoch 65 | D Loss: 0.7750 | G Loss: 1.7183\n"
     ]
    },
    {
     "name": "stderr",
     "output_type": "stream",
     "text": [
      "Epoch 66/100: 100%|██████████| 469/469 [00:07<00:00, 63.84it/s]\n"
     ]
    },
    {
     "name": "stdout",
     "output_type": "stream",
     "text": [
      "Epoch 66 | D Loss: 0.7701 | G Loss: 1.7339\n"
     ]
    },
    {
     "name": "stderr",
     "output_type": "stream",
     "text": [
      "Epoch 67/100: 100%|██████████| 469/469 [00:07<00:00, 65.52it/s]\n"
     ]
    },
    {
     "name": "stdout",
     "output_type": "stream",
     "text": [
      "Epoch 67 | D Loss: 0.7734 | G Loss: 1.7379\n"
     ]
    },
    {
     "name": "stderr",
     "output_type": "stream",
     "text": [
      "Epoch 68/100: 100%|██████████| 469/469 [00:07<00:00, 65.42it/s]\n"
     ]
    },
    {
     "name": "stdout",
     "output_type": "stream",
     "text": [
      "Epoch 68 | D Loss: 0.7691 | G Loss: 1.7408\n"
     ]
    },
    {
     "name": "stderr",
     "output_type": "stream",
     "text": [
      "Epoch 69/100: 100%|██████████| 469/469 [00:07<00:00, 63.36it/s]\n"
     ]
    },
    {
     "name": "stdout",
     "output_type": "stream",
     "text": [
      "Epoch 69 | D Loss: 0.7677 | G Loss: 1.7514\n"
     ]
    },
    {
     "name": "stderr",
     "output_type": "stream",
     "text": [
      "Epoch 70/100: 100%|██████████| 469/469 [00:07<00:00, 66.22it/s]\n"
     ]
    },
    {
     "name": "stdout",
     "output_type": "stream",
     "text": [
      "Epoch 70 | D Loss: 0.7656 | G Loss: 1.7436\n"
     ]
    },
    {
     "name": "stderr",
     "output_type": "stream",
     "text": [
      "Epoch 71/100: 100%|██████████| 469/469 [00:07<00:00, 66.07it/s]\n"
     ]
    },
    {
     "name": "stdout",
     "output_type": "stream",
     "text": [
      "Epoch 71 | D Loss: 0.7677 | G Loss: 1.7505\n"
     ]
    },
    {
     "name": "stderr",
     "output_type": "stream",
     "text": [
      "Epoch 72/100: 100%|██████████| 469/469 [00:07<00:00, 62.07it/s]\n"
     ]
    },
    {
     "name": "stdout",
     "output_type": "stream",
     "text": [
      "Epoch 72 | D Loss: 0.7561 | G Loss: 1.7589\n"
     ]
    },
    {
     "name": "stderr",
     "output_type": "stream",
     "text": [
      "Epoch 73/100: 100%|██████████| 469/469 [00:07<00:00, 63.66it/s]\n"
     ]
    },
    {
     "name": "stdout",
     "output_type": "stream",
     "text": [
      "Epoch 73 | D Loss: 0.7579 | G Loss: 1.7750\n"
     ]
    },
    {
     "name": "stderr",
     "output_type": "stream",
     "text": [
      "Epoch 74/100: 100%|██████████| 469/469 [00:07<00:00, 65.50it/s]\n"
     ]
    },
    {
     "name": "stdout",
     "output_type": "stream",
     "text": [
      "Epoch 74 | D Loss: 0.7528 | G Loss: 1.7795\n"
     ]
    },
    {
     "name": "stderr",
     "output_type": "stream",
     "text": [
      "Epoch 75/100: 100%|██████████| 469/469 [00:07<00:00, 64.11it/s]\n"
     ]
    },
    {
     "name": "stdout",
     "output_type": "stream",
     "text": [
      "Epoch 75 | D Loss: 0.7518 | G Loss: 1.7882\n"
     ]
    },
    {
     "name": "stderr",
     "output_type": "stream",
     "text": [
      "Epoch 76/100: 100%|██████████| 469/469 [00:07<00:00, 65.15it/s]\n"
     ]
    },
    {
     "name": "stdout",
     "output_type": "stream",
     "text": [
      "Epoch 76 | D Loss: 0.7448 | G Loss: 1.8119\n"
     ]
    },
    {
     "name": "stderr",
     "output_type": "stream",
     "text": [
      "Epoch 77/100: 100%|██████████| 469/469 [00:06<00:00, 69.53it/s]\n"
     ]
    },
    {
     "name": "stdout",
     "output_type": "stream",
     "text": [
      "Epoch 77 | D Loss: 0.7385 | G Loss: 1.8187\n"
     ]
    },
    {
     "name": "stderr",
     "output_type": "stream",
     "text": [
      "Epoch 78/100: 100%|██████████| 469/469 [00:06<00:00, 69.91it/s]\n"
     ]
    },
    {
     "name": "stdout",
     "output_type": "stream",
     "text": [
      "Epoch 78 | D Loss: 0.7377 | G Loss: 1.8268\n"
     ]
    },
    {
     "name": "stderr",
     "output_type": "stream",
     "text": [
      "Epoch 79/100: 100%|██████████| 469/469 [00:06<00:00, 69.66it/s]\n"
     ]
    },
    {
     "name": "stdout",
     "output_type": "stream",
     "text": [
      "Epoch 79 | D Loss: 0.7345 | G Loss: 1.8220\n"
     ]
    },
    {
     "name": "stderr",
     "output_type": "stream",
     "text": [
      "Epoch 80/100: 100%|██████████| 469/469 [00:06<00:00, 70.23it/s]\n"
     ]
    },
    {
     "name": "stdout",
     "output_type": "stream",
     "text": [
      "Epoch 80 | D Loss: 0.7330 | G Loss: 1.8465\n"
     ]
    },
    {
     "name": "stderr",
     "output_type": "stream",
     "text": [
      "Epoch 81/100: 100%|██████████| 469/469 [00:06<00:00, 68.47it/s]\n"
     ]
    },
    {
     "name": "stdout",
     "output_type": "stream",
     "text": [
      "Epoch 81 | D Loss: 0.7333 | G Loss: 1.8510\n"
     ]
    },
    {
     "name": "stderr",
     "output_type": "stream",
     "text": [
      "Epoch 82/100: 100%|██████████| 469/469 [00:06<00:00, 68.60it/s]\n"
     ]
    },
    {
     "name": "stdout",
     "output_type": "stream",
     "text": [
      "Epoch 82 | D Loss: 0.7301 | G Loss: 1.8469\n"
     ]
    },
    {
     "name": "stderr",
     "output_type": "stream",
     "text": [
      "Epoch 83/100: 100%|██████████| 469/469 [00:06<00:00, 69.97it/s]\n"
     ]
    },
    {
     "name": "stdout",
     "output_type": "stream",
     "text": [
      "Epoch 83 | D Loss: 0.7236 | G Loss: 1.8542\n"
     ]
    },
    {
     "name": "stderr",
     "output_type": "stream",
     "text": [
      "Epoch 84/100: 100%|██████████| 469/469 [00:07<00:00, 66.96it/s]\n"
     ]
    },
    {
     "name": "stdout",
     "output_type": "stream",
     "text": [
      "Epoch 84 | D Loss: 0.7228 | G Loss: 1.8750\n"
     ]
    },
    {
     "name": "stderr",
     "output_type": "stream",
     "text": [
      "Epoch 85/100: 100%|██████████| 469/469 [00:06<00:00, 69.53it/s]\n"
     ]
    },
    {
     "name": "stdout",
     "output_type": "stream",
     "text": [
      "Epoch 85 | D Loss: 0.7189 | G Loss: 1.8767\n"
     ]
    },
    {
     "name": "stderr",
     "output_type": "stream",
     "text": [
      "Epoch 86/100: 100%|██████████| 469/469 [00:06<00:00, 70.09it/s]\n"
     ]
    },
    {
     "name": "stdout",
     "output_type": "stream",
     "text": [
      "Epoch 86 | D Loss: 0.7166 | G Loss: 1.8794\n"
     ]
    },
    {
     "name": "stderr",
     "output_type": "stream",
     "text": [
      "Epoch 87/100: 100%|██████████| 469/469 [00:06<00:00, 71.29it/s]\n"
     ]
    },
    {
     "name": "stdout",
     "output_type": "stream",
     "text": [
      "Epoch 87 | D Loss: 0.7171 | G Loss: 1.8952\n"
     ]
    },
    {
     "name": "stderr",
     "output_type": "stream",
     "text": [
      "Epoch 88/100: 100%|██████████| 469/469 [00:06<00:00, 69.85it/s]\n"
     ]
    },
    {
     "name": "stdout",
     "output_type": "stream",
     "text": [
      "Epoch 88 | D Loss: 0.7080 | G Loss: 1.8990\n"
     ]
    },
    {
     "name": "stderr",
     "output_type": "stream",
     "text": [
      "Epoch 89/100: 100%|██████████| 469/469 [00:06<00:00, 68.94it/s]\n"
     ]
    },
    {
     "name": "stdout",
     "output_type": "stream",
     "text": [
      "Epoch 89 | D Loss: 0.7081 | G Loss: 1.9227\n"
     ]
    },
    {
     "name": "stderr",
     "output_type": "stream",
     "text": [
      "Epoch 90/100: 100%|██████████| 469/469 [00:06<00:00, 68.97it/s]\n"
     ]
    },
    {
     "name": "stdout",
     "output_type": "stream",
     "text": [
      "Epoch 90 | D Loss: 0.7045 | G Loss: 1.9227\n"
     ]
    },
    {
     "name": "stderr",
     "output_type": "stream",
     "text": [
      "Epoch 91/100: 100%|██████████| 469/469 [00:06<00:00, 68.14it/s]\n"
     ]
    },
    {
     "name": "stdout",
     "output_type": "stream",
     "text": [
      "Epoch 91 | D Loss: 0.7031 | G Loss: 1.9397\n"
     ]
    },
    {
     "name": "stderr",
     "output_type": "stream",
     "text": [
      "Epoch 92/100: 100%|██████████| 469/469 [00:07<00:00, 62.09it/s]\n"
     ]
    },
    {
     "name": "stdout",
     "output_type": "stream",
     "text": [
      "Epoch 92 | D Loss: 0.7015 | G Loss: 1.9418\n"
     ]
    },
    {
     "name": "stderr",
     "output_type": "stream",
     "text": [
      "Epoch 93/100: 100%|██████████| 469/469 [00:08<00:00, 55.19it/s]\n"
     ]
    },
    {
     "name": "stdout",
     "output_type": "stream",
     "text": [
      "Epoch 93 | D Loss: 0.6979 | G Loss: 1.9426\n"
     ]
    },
    {
     "name": "stderr",
     "output_type": "stream",
     "text": [
      "Epoch 94/100: 100%|██████████| 469/469 [00:08<00:00, 55.10it/s]\n"
     ]
    },
    {
     "name": "stdout",
     "output_type": "stream",
     "text": [
      "Epoch 94 | D Loss: 0.6938 | G Loss: 1.9503\n"
     ]
    },
    {
     "name": "stderr",
     "output_type": "stream",
     "text": [
      "Epoch 95/100: 100%|██████████| 469/469 [00:07<00:00, 61.57it/s]\n"
     ]
    },
    {
     "name": "stdout",
     "output_type": "stream",
     "text": [
      "Epoch 95 | D Loss: 0.6898 | G Loss: 1.9662\n"
     ]
    },
    {
     "name": "stderr",
     "output_type": "stream",
     "text": [
      "Epoch 96/100: 100%|██████████| 469/469 [00:07<00:00, 61.35it/s]\n"
     ]
    },
    {
     "name": "stdout",
     "output_type": "stream",
     "text": [
      "Epoch 96 | D Loss: 0.6858 | G Loss: 1.9713\n"
     ]
    },
    {
     "name": "stderr",
     "output_type": "stream",
     "text": [
      "Epoch 97/100: 100%|██████████| 469/469 [00:07<00:00, 60.88it/s]\n"
     ]
    },
    {
     "name": "stdout",
     "output_type": "stream",
     "text": [
      "Epoch 97 | D Loss: 0.6849 | G Loss: 2.0010\n"
     ]
    },
    {
     "name": "stderr",
     "output_type": "stream",
     "text": [
      "Epoch 98/100: 100%|██████████| 469/469 [00:07<00:00, 58.65it/s]\n"
     ]
    },
    {
     "name": "stdout",
     "output_type": "stream",
     "text": [
      "Epoch 98 | D Loss: 0.6828 | G Loss: 2.0013\n"
     ]
    },
    {
     "name": "stderr",
     "output_type": "stream",
     "text": [
      "Epoch 99/100: 100%|██████████| 469/469 [00:07<00:00, 58.85it/s]\n"
     ]
    },
    {
     "name": "stdout",
     "output_type": "stream",
     "text": [
      "Epoch 99 | D Loss: 0.6793 | G Loss: 1.9954\n"
     ]
    },
    {
     "name": "stderr",
     "output_type": "stream",
     "text": [
      "Epoch 100/100: 100%|██████████| 469/469 [00:07<00:00, 59.32it/s]"
     ]
    },
    {
     "name": "stdout",
     "output_type": "stream",
     "text": [
      "Epoch 100 | D Loss: 0.6767 | G Loss: 2.0103\n"
     ]
    },
    {
     "name": "stderr",
     "output_type": "stream",
     "text": [
      "\n"
     ]
    }
   ],
   "source": [
    "import torch\n",
    "import torch.nn as nn\n",
    "import torch.optim as optim\n",
    "from torchvision import datasets, transforms\n",
    "from torch.utils.data import DataLoader\n",
    "from tqdm import tqdm\n",
    "\n",
    "# --------------------------------------------\n",
    "# 1. Load Fashion-MNIST with normalization\n",
    "# --------------------------------------------\n",
    "transform = transforms.Compose([\n",
    "    transforms.ToTensor(),\n",
    "    transforms.Normalize((0.5,), (0.5,))  # Normalize to [-1, 1] for tanh\n",
    "])\n",
    "\n",
    "train_dataset = datasets.FashionMNIST(\n",
    "    root='./data',\n",
    "    train=True,\n",
    "    transform=transform,\n",
    "    download=True\n",
    ")\n",
    "\n",
    "train_loader = DataLoader(train_dataset, batch_size=batch_size, shuffle=True)\n",
    "\n",
    "# --------------------------------------------\n",
    "# 2. Build models and loss\n",
    "# --------------------------------------------\n",
    "G, D = build_simple_gan(latent_dim, hidden_dim, img_shape)\n",
    "\n",
    "loss_fn = nn.BCELoss()  # Binary Cross-Entropy Loss\n",
    "\n",
    "# --------------------------------------------\n",
    "# 3. Define optimizers\n",
    "# --------------------------------------------\n",
    "G_opt = optim.Adam(G.parameters(), lr=2e-4, betas=(0.5, 0.999))\n",
    "D_opt = optim.Adam(D.parameters(), lr=2e-4, betas=(0.5, 0.999))\n",
    "\n",
    "# --------------------------------------------\n",
    "# 4. Track losses for visualization\n",
    "# --------------------------------------------\n",
    "G_losses = []\n",
    "D_losses = []\n",
    "\n",
    "# --------------------------------------------\n",
    "# 5. Training loop\n",
    "# --------------------------------------------\n",
    "for epoch in range(num_epochs):\n",
    "    G.train()\n",
    "    D.train()\n",
    "    total_G_loss = 0.0\n",
    "    total_D_loss = 0.0\n",
    "\n",
    "    for real_imgs, _ in tqdm(train_loader, desc=f\"Epoch {epoch+1}/{num_epochs}\"):\n",
    "        real_imgs = real_imgs.to(device)\n",
    "        batch_size = real_imgs.size(0)\n",
    "\n",
    "        # ===============================\n",
    "        # Train Discriminator: maximize log(D(x)) + log(1 - D(G(z)))\n",
    "        # ===============================\n",
    "        D.zero_grad()\n",
    "\n",
    "        # Real labels (1s), Fake labels (0s)\n",
    "        y_real = torch.ones(batch_size, 1, device=device)\n",
    "        y_fake = torch.zeros(batch_size, 1, device=device)\n",
    "\n",
    "        # Compute D loss on real images\n",
    "        d_real_loss = loss_fn(D(real_imgs), y_real)\n",
    "\n",
    "        # Generate fake images and detach (don't update G yet)\n",
    "        z = torch.randn(batch_size, latent_dim, device=device)\n",
    "        fake_imgs = G(z).detach()  # No gradients to G\n",
    "        d_fake_loss = loss_fn(D(fake_imgs), y_fake)\n",
    "\n",
    "        # Total D loss\n",
    "        d_loss = d_real_loss + d_fake_loss\n",
    "        d_loss.backward()\n",
    "        D_opt.step()\n",
    "\n",
    "        # ===============================\n",
    "        # Train Generator: maximize log(D(G(z)))\n",
    "        # ===============================\n",
    "        G.zero_grad()\n",
    "\n",
    "        # Generate new batch of fake images\n",
    "        z = torch.randn(batch_size, latent_dim, device=device)\n",
    "        gen_imgs = G(z)\n",
    "\n",
    "        # We want discriminator to believe these are real → label = 1\n",
    "        g_loss = loss_fn(D(gen_imgs), y_real)\n",
    "\n",
    "        g_loss.backward()\n",
    "        G_opt.step()\n",
    "\n",
    "        # Track losses\n",
    "        total_D_loss += d_loss.item()\n",
    "        total_G_loss += g_loss.item()\n",
    "\n",
    "    avg_D_loss = total_D_loss / len(train_loader)\n",
    "    avg_G_loss = total_G_loss / len(train_loader)\n",
    "\n",
    "    D_losses.append(avg_D_loss)\n",
    "    G_losses.append(avg_G_loss)\n",
    "\n",
    "    print(f\"Epoch {epoch+1:02d} | D Loss: {avg_D_loss:.4f} | G Loss: {avg_G_loss:.4f}\")"
   ]
  },
  {
   "cell_type": "code",
   "execution_count": null,
   "id": "3a207bea",
   "metadata": {},
   "outputs": [
    {
     "data": {
      "image/png": "[encoded data removed]",
      "text/plain": [
       "<Figure size 1000x500 with 1 Axes>"
      ]
     },
     "metadata": {},
     "output_type": "display_data"
    }
   ],
   "source": [
    "# Plot both losses\n",
    "plt.figure(figsize=(10, 5))\n",
    "plt.plot(G_losses, label=\"Generator Loss\", linewidth=2)\n",
    "plt.plot(D_losses, label=\"Discriminator Loss\", linewidth=2)\n",
    "plt.title(\"GAN Training Losses\")\n",
    "plt.xlabel(\"Epoch\")\n",
    "plt.ylabel(\"Loss\")\n",
    "plt.legend()\n",
    "plt.grid(True)\n",
    "plt.tight_layout()\n",
    "plt.show()"
   ]
  },
  {
   "cell_type": "code",
   "execution_count": 19,
   "id": "a4003f3b",
   "metadata": {},
   "outputs": [
    {
     "data": {
      "image/png": "[encoded data removed]",
      "text/plain": [
       "<Figure size 1500x600 with 32 Axes>"
      ]
     },
     "metadata": {},
     "output_type": "display_data"
    }
   ],
   "source": [
    "import matplotlib.pyplot as plt\n",
    "\n",
    "# Fashion-MNIST labels\n",
    "fashion_labels = [\n",
    "    \"T-shirt/top\", \"Trouser\", \"Pullover\", \"Dress\", \"Coat\",\n",
    "    \"Sandal\", \"Shirt\", \"Sneaker\", \"Bag\", \"Ankle boot\"\n",
    "]\n",
    "\n",
    "# Set generator to eval mode\n",
    "G.eval()\n",
    "\n",
    "# Number of samples to generate\n",
    "num_samples = 32\n",
    "rows = 4\n",
    "cols = num_samples // rows\n",
    "\n",
    "with torch.no_grad():\n",
    "    z = torch.randn(num_samples, latent_dim, device=device)\n",
    "    fake_imgs = G(z).cpu()\n",
    "\n",
    "# Denormalize from [-1, 1] to [0, 1] for display\n",
    "fake_imgs = (fake_imgs + 1) / 2\n",
    "\n",
    "# Plotting individual images with index (since GAN is not conditional)\n",
    "fig, axs = plt.subplots(rows, cols, figsize=(15, 6))\n",
    "\n",
    "for i, ax in enumerate(axs.flat):\n",
    "    ax.imshow(fake_imgs[i].squeeze())\n",
    "    ax.set_title(f\"Sample {i+1}\")\n",
    "    ax.axis(\"off\")\n",
    "\n",
    "plt.suptitle(\"Generated Fashion-MNIST Images (Unlabeled GAN)\", fontsize=16)\n",
    "plt.tight_layout()\n",
    "plt.show()\n"
   ]
  },
  {
   "cell_type": "markdown",
   "id": "f9d3d6b4",
   "metadata": {},
   "source": [
    "## **Mode Collapse** in GANs: What You're Seeing\n",
    "\n",
    "In our GAN-generated Fashion-MNIST samples, we noticed that some classes like *sneakers* and *sandals* are missing entirely. This issue is a well-known phenomenon in GAN training called **mode collapse**.\n",
    "\n",
    "\n",
    "### What Is Mode Collapse?\n",
    "\n",
    "**Mode collapse** occurs when the generator learns to produce only a limited subset (or \"mode\") of the target distribution — ignoring the rest — because it discovers a shortcut that still fools the discriminator.\n",
    "\n",
    "- Suppose the generator finds that generating only \"shirts\" consistently fools the discriminator.\n",
    "- Then it may **only produce shirts**, ignoring sandals, sneakers, or coats — even though those are valid Fashion-MNIST classes.\n",
    "\n",
    "Mathematically, instead of learning the full distribution $p_\\text{data}(x)$, the generator $G(z)$ collapses to a smaller subspace:\n",
    "$$\n",
    "p_G(x) \\approx \\delta(x - x_0)\n",
    "$$\n",
    "where $x_0$ is a single mode (e.g., a shirt).\n",
    "\n",
    "\n",
    "### Why Does This Happen?\n",
    "\n",
    "- The generator receives no incentive to be **diverse**.\n",
    "- If a few outputs successfully fool the discriminator, it may **reuse them**.\n",
    "- The discriminator can become too powerful too quickly, leading to **vanishing gradients** for the generator.\n",
    "\n",
    "\n",
    "### What’s Next?\n",
    "\n",
    "In the next lecture, we will introduce **Wasserstein GANs (WGANs)** — a powerful approach to mitigating mode collapse.  \n",
    "WGANs reformulate GAN training using the **Wasserstein distance**, providing:\n",
    "\n",
    "- A smoother loss landscape,\n",
    "- Better convergence,\n",
    "- And significantly reduced mode collapse.\n"
   ]
  }
 ],
 "metadata": {
  "kernelspec": {
   "display_name": "pytorch",
   "language": "python",
   "name": "python3"
  },
  "language_info": {
   "codemirror_mode": {
    "name": "ipython",
    "version": 3
   },
   "file_extension": ".py",
   "mimetype": "text/x-python",
   "name": "python",
   "nbconvert_exporter": "python",
   "pygments_lexer": "ipython3",
   "version": "3.13.2"
  }
 },
 "nbformat": 4,
 "nbformat_minor": 5
}

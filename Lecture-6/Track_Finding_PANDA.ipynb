{
 "cells": [
  {
   "cell_type": "markdown",
   "id": "2926aba2",
   "metadata": {},
   "source": [
    "## RNNs for Particle Track Classification and Prediction (Toy PANDA Dataset)\n",
    "\n",
    "In this notebook, we explore the use of **Recurrent Neural Networks (RNNs)** for toy problems inspired by the **Forward Tracking System** of the [PANDA experiment](https://panda.gsi.de), shown below:\n",
    "\n",
    "![PANDA Forward Tracker](PANDA_full-set-up.png)\n",
    "\n",
    "We focus on **hit sequences** registered in the forward tracker (red labeled sub-detectors in the figure), which are crucial for reconstructing the trajectories of charged particles in the forward region.\n",
    "\n",
    "We will explore **two learning tasks**:\n",
    "\n",
    "\n",
    "###  1. One-to-Many: Hit Classification\n",
    "\n",
    "Given a **track seed or hit origin**, we aim to classify subsequent hits (tracklets) as:\n",
    "\n",
    "- ✅ **True** → if they belong to the **same track**\n",
    "- ❌ **False** → if they come from **different tracks**\n",
    "\n",
    "This is a **sequence classification** task, where a **single input (seed)** generates a **sequence of binary labels** — one per hit in the tracklet.\n",
    "\n",
    "###  2. Many-to-Many: Track Prediction\n",
    "\n",
    "Given a **partial set of hits (seed track)**, predict the **following hit positions** that would complete the true track.  \n",
    "This is a **sequence-to-sequence** task where:\n",
    "\n",
    "- Input: initial \\( N \\) hit positions (seeds)\n",
    "- Output: predicted next \\( M \\) hit positions\n",
    "\n",
    "We will use an RNN or LSTM architecture to capture the **temporal and geometric dependencies** between hits as the track passes through the detector layers.\n",
    "\n",
    "\n",
    "These are **simplified, toy versions** of the full PANDA reconstruction pipeline but are excellent for understanding how sequential models like RNNs can be applied to particle tracking problems.\n"
   ]
  },
  {
   "cell_type": "markdown",
   "id": "3846d030",
   "metadata": {},
   "source": [
    "###  **1. One-to-Many: Tracklet Classification**"
   ]
  },
  {
   "cell_type": "code",
   "execution_count": null,
   "id": "216246eb",
   "metadata": {},
   "outputs": [
    {
     "name": "stdout",
     "output_type": "stream",
     "text": [
      "Stations selected are:  [1 2 3 4 5 6]\n"
     ]
    }
   ],
   "source": [
    "from panda_utils import load_events\n",
    "\n",
    "# Read the toy dataset\n",
    "events = load_events('PANDA_toy_dataset.csv', chamber_id=None, start=0, end=2000)"
   ]
  },
  {
   "cell_type": "markdown",
   "id": "47f0d781",
   "metadata": {},
   "source": [
    "### Plot an event"
   ]
  },
  {
   "cell_type": "code",
   "execution_count": 7,
   "id": "3e94eea0",
   "metadata": {},
   "outputs": [
    {
     "data": {
      "text/plain": [
       "Text(0, 0.5, 'x [cm]')"
      ]
     },
     "execution_count": 7,
     "metadata": {},
     "output_type": "execute_result"
    },
    {
     "data": {
      "image/png": "[encoded data removed]",
      "text/plain": [
       "<Figure size 640x480 with 1 Axes>"
      ]
     },
     "metadata": {},
     "output_type": "display_data"
    }
   ],
   "source": [
    "import matplotlib.pyplot as plt\n",
    "# Select the first event\n",
    "event = events[0] # This is a pandas dataframe\n",
    "\n",
    "plt.scatter(event.z, event.x, s=50)\n",
    "plt.xlabel('z [cm]', fontsize=18)\n",
    "plt.ylabel('x [cm]', fontsize=18)"
   ]
  },
  {
   "cell_type": "code",
   "execution_count": null,
   "id": "68f69939",
   "metadata": {},
   "outputs": [
    {
     "name": "stderr",
     "output_type": "stream",
     "text": [
      "100%|██████████| 2000/2000 [00:49<00:00, 40.71it/s]\n"
     ]
    },
    {
     "data": {
      "text/plain": [
       "((115934, 24, 3), (115934, 1))"
      ]
     },
     "execution_count": 8,
     "metadata": {},
     "output_type": "execute_result"
    }
   ],
   "source": [
    "from panda_utils import create_tracklets\n",
    "# Create training set\n",
    "X, y = create_tracklets(events)\n",
    "\n",
    "# Invistigate the shape (batch_size, time_steps, features)\n",
    "X.shape, y.shape"
   ]
  },
  {
   "cell_type": "markdown",
   "id": "41e4997e",
   "metadata": {},
   "source": [
    "## Classify Forward Tracks"
   ]
  },
  {
   "cell_type": "code",
   "execution_count": 12,
   "id": "690a204e",
   "metadata": {},
   "outputs": [
    {
     "name": "stdout",
     "output_type": "stream",
     "text": [
      "(92747, 24, 3) (92747,)\n",
      "Using device: cuda\n",
      "Epoch  10 | Loss: 0.6619\n",
      "Epoch  20 | Loss: 0.6129\n",
      "Epoch  30 | Loss: 0.5844\n",
      "Epoch  40 | Loss: 0.5683\n",
      "Epoch  50 | Loss: 0.5595\n",
      "Epoch  60 | Loss: 0.5545\n",
      "Epoch  70 | Loss: 0.5510\n",
      "Epoch  80 | Loss: 0.5478\n",
      "Epoch  90 | Loss: 0.5447\n",
      "Epoch 100 | Loss: 0.5405\n"
     ]
    }
   ],
   "source": [
    "import torch\n",
    "import torch.nn as nn\n",
    "import torch.optim as optim\n",
    "from sklearn.model_selection import train_test_split\n",
    "\n",
    "# ---------------------------------------\n",
    "# 1. Split the data and move it to device\n",
    "# ---------------------------------------\n",
    "X_train, X_test, y_train, y_test = train_test_split(X, y, test_size=0.2, random_state=42)\n",
    "y_train, y_test = y_train.squeeze(), y_test.squeeze()\n",
    "\n",
    "print(X_train.shape, y_train.shape)\n",
    "\n",
    "device = 'cuda' if torch.cuda.is_available() else 'cpu'\n",
    "print(f\"Using device: {device}\")\n",
    "\n",
    "# Convert to PyTorch tensors and move to device\n",
    "x_train_tensor = torch.as_tensor(X_train).float().to(device)\n",
    "x_test_tensor = torch.as_tensor(X_test).float().to(device)\n",
    "y_train_tensor = torch.as_tensor(y_train).float().to(device).unsqueeze(1)  # Make shape [N, 1]\n",
    "y_test_tensor = torch.as_tensor(y_test).float().to(device).unsqueeze(1)  # Make shape [N, 1]\n",
    "\n",
    "\n",
    "# ---------------------------------------\n",
    "# 2. Define the RNN model\n",
    "# ---------------------------------------\n",
    "class GWClassifierRNN(nn.Module):\n",
    "    def __init__(self, input_size=3, hidden_size=16, num_layers=1):\n",
    "        super(GWClassifierRNN, self).__init__()\n",
    "        self.rnn = nn.RNN(input_size, hidden_size, num_layers, batch_first=True)\n",
    "        self.fc = nn.Sequential(\n",
    "            nn.Linear(hidden_size, 16),\n",
    "            nn.LeakyReLU(),\n",
    "            nn.Linear(16, 1),\n",
    "            nn.Sigmoid()\n",
    "        )\n",
    "\n",
    "    def forward(self, x):\n",
    "        out, _ = self.rnn(x)  # out: [batch, seq_len, hidden]\n",
    "        out = out[:, -1, :]   # take the last hidden state\n",
    "        out = self.fc(out)\n",
    "        return out\n",
    "\n",
    "model = GWClassifierRNN().to(device)\n",
    "\n",
    "\n",
    "# ---------------------------------------\n",
    "# 3. Define loss and optimizer with momentum\n",
    "# ---------------------------------------\n",
    "criterion = nn.BCELoss()  # Binary cross-entropy loss\n",
    "\n",
    "# SGD with momentum\n",
    "optimizer = optim.SGD(model.parameters(), lr=0.01, momentum=0.9)\n",
    "\n",
    "\n",
    "# ---------------------------------------\n",
    "# 4. Train the model\n",
    "# ---------------------------------------\n",
    "epochs = 100\n",
    "loss_vals = []\n",
    "\n",
    "for epoch in range(epochs):\n",
    "    model.train()\n",
    "    y_pred = model(x_train_tensor)\n",
    "    loss = criterion(y_pred, y_train_tensor)\n",
    "    loss_vals.append(loss.item())\n",
    "\n",
    "    optimizer.zero_grad()\n",
    "    loss.backward()\n",
    "    optimizer.step()\n",
    "\n",
    "    if (epoch + 1) % 10 == 0:\n",
    "        print(f\"Epoch {epoch+1:3d} | Loss: {loss.item():.4f}\")"
   ]
  },
  {
   "cell_type": "code",
   "execution_count": 13,
   "id": "26028631",
   "metadata": {},
   "outputs": [
    {
     "data": {
      "image/png": "[encoded data removed]",
      "text/plain": [
       "<Figure size 800x400 with 1 Axes>"
      ]
     },
     "metadata": {},
     "output_type": "display_data"
    }
   ],
   "source": [
    "# ---------------------------------------\n",
    "# 5. Visualize the loss curve\n",
    "# ---------------------------------------\n",
    "plt.figure(figsize=(8, 4))\n",
    "plt.plot(loss_vals, 'o-', color='darkorange')\n",
    "plt.title(\"Training Loss Over Epochs\", fontsize=16)\n",
    "plt.xlabel(\"Epoch\", fontsize=14)\n",
    "plt.ylabel(\"Binary Cross-Entropy Loss\", fontsize=14)\n",
    "plt.grid(True)\n",
    "plt.tight_layout()\n",
    "plt.show()"
   ]
  },
  {
   "cell_type": "code",
   "execution_count": 14,
   "id": "2c0a2683",
   "metadata": {},
   "outputs": [
    {
     "name": "stdout",
     "output_type": "stream",
     "text": [
      "Accuracy 75.40\n"
     ]
    }
   ],
   "source": [
    "import torchmetrics\n",
    "\n",
    "acc = torchmetrics.Accuracy(task=\"binary\", num_classes=1)\n",
    "\n",
    "with torch.no_grad():\n",
    "    y_hat_test = model(x_test_tensor).cpu()\n",
    "    print(\"Accuracy {:.2f}\".format(acc(y_hat_test.flatten(), y_test_tensor.cpu().flatten())*100))"
   ]
  },
  {
   "cell_type": "markdown",
   "id": "74f79c44",
   "metadata": {},
   "source": [
    "###  **2. Many-to-Many: Track Prediction**"
   ]
  },
  {
   "cell_type": "code",
   "execution_count": null,
   "id": "7c0e160f",
   "metadata": {},
   "outputs": [],
   "source": [
    "from panda_utils import create_seeds\n",
    "\n",
    "# A seed is a track of 4-hits in the first chamber (first layers)\n",
    "X, y = create_seeds(events)\n",
    "\n",
    "\n",
    "# Investigate the shape\n",
    "# TODO: Do you understand what does the shape represents ?\n",
    "# TODO: Can you plot one of the track seeds ?\n",
    "# TODO: Can you define and train a sequence model to \"predict\" the next hit position ?\n",
    "print (X.shape, y.shape)"
   ]
  }
 ],
 "metadata": {
  "kernelspec": {
   "display_name": "pytorch",
   "language": "python",
   "name": "python3"
  },
  "language_info": {
   "codemirror_mode": {
    "name": "ipython",
    "version": 3
   },
   "file_extension": ".py",
   "mimetype": "text/x-python",
   "name": "python",
   "nbconvert_exporter": "python",
   "pygments_lexer": "ipython3",
   "version": "3.13.2"
  }
 },
 "nbformat": 4,
 "nbformat_minor": 5
}
